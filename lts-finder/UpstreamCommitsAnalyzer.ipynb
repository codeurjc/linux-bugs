{
 "cells": [
  {
   "cell_type": "code",
   "execution_count": 1,
   "id": "50816842-8984-4d3a-b705-c312c17eb47d",
   "metadata": {},
   "outputs": [
    {
     "name": "stderr",
     "output_type": "stream",
     "text": [
      "/tmp/ipykernel_17273/1177998677.py:1: DeprecationWarning: \n",
      "Pyarrow will become a required dependency of pandas in the next major release of pandas (pandas 3.0),\n",
      "(to allow more performant data types, such as the Arrow string type, and better interoperability with other libraries)\n",
      "but was not found to be installed on your system.\n",
      "If this would cause problems for you,\n",
      "please provide us feedback at https://github.com/pandas-dev/pandas/issues/54466\n",
      "        \n",
      "  import pandas as pd\n"
     ]
    }
   ],
   "source": [
    "import pandas as pd\n",
    "import json"
   ]
  },
  {
   "cell_type": "markdown",
   "id": "279c357a-e038-4593-aec2-6ada2c8a8cbf",
   "metadata": {},
   "source": [
    "### Load annotated commits"
   ]
  },
  {
   "cell_type": "code",
   "execution_count": 2,
   "id": "9f633d16-d698-4efc-aa6a-104d383e5ae5",
   "metadata": {},
   "outputs": [],
   "source": [
    "commit_collection_path = \"../linux-commits-2023-11-12_random-filtered-1.json\"\n",
    "annotated_commits_dict=dict()\n",
    "with open(commit_collection_path) as fd:\n",
    "    commit_collection = json.load(fd)\n",
    "    for commit in commit_collection:\n",
    "        c_hash = commit['data']['commit']\n",
    "        annotated_commits_dict[c_hash] = commit"
   ]
  },
  {
   "cell_type": "markdown",
   "id": "645e6bbd-dde3-4d92-acf2-d8bb90daf978",
   "metadata": {},
   "source": [
    "### Load upstream commits"
   ]
  },
  {
   "cell_type": "code",
   "execution_count": 3,
   "id": "61aecffe-07c5-4c88-903f-eea3062d4246",
   "metadata": {},
   "outputs": [
    {
     "name": "stdout",
     "output_type": "stream",
     "text": [
      "Upstream commits found: 51748\n",
      "Unique upstream commits found: 26050\n"
     ]
    }
   ],
   "source": [
    "upstream_commits = pd.read_csv('upstream_commits.csv', converters={'branch': str})\n",
    "print(\"Upstream commits found: %d\"%len(upstream_commits))\n",
    "print(\"Unique upstream commits found: %d\"%len(upstream_commits.commit.unique()))"
   ]
  },
  {
   "cell_type": "markdown",
   "id": "fe989f0a-2842-4b59-aefc-23835894a4c7",
   "metadata": {},
   "source": [
    "### Get upstream commits already annotated"
   ]
  },
  {
   "cell_type": "code",
   "execution_count": 4,
   "id": "c028a702-ef99-43a1-96f4-d7e11d82a036",
   "metadata": {},
   "outputs": [],
   "source": [
    "upstream_commits_annotated = upstream_commits[upstream_commits['commit'].apply(lambda commit: commit in annotated_commits_dict)]"
   ]
  },
  {
   "cell_type": "code",
   "execution_count": 6,
   "id": "58aaf7f9-ee43-4e36-b642-489b14451af6",
   "metadata": {},
   "outputs": [
    {
     "name": "stdout",
     "output_type": "stream",
     "text": [
      "Upstream commits annotated found: 154\n",
      "Unique upstream commits found: 54\n"
     ]
    }
   ],
   "source": [
    "print(\"Upstream commits annotated found: %d\"%len(upstream_commits_annotated))\n",
    "print(\"Unique upstream commits found: %d\"%len(upstream_commits_annotated.commit.unique()))"
   ]
  }
 ],
 "metadata": {
  "kernelspec": {
   "display_name": "Python 3 (ipykernel)",
   "language": "python",
   "name": "python3"
  },
  "language_info": {
   "codemirror_mode": {
    "name": "ipython",
    "version": 3
   },
   "file_extension": ".py",
   "mimetype": "text/x-python",
   "name": "python",
   "nbconvert_exporter": "python",
   "pygments_lexer": "ipython3",
   "version": "3.11.5"
  }
 },
 "nbformat": 4,
 "nbformat_minor": 5
}

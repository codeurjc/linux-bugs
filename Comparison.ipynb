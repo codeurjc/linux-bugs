{
 "cells": [
  {
   "cell_type": "code",
   "execution_count": 144,
   "id": "fb31239d-b267-466d-b420-cbe262f8ef9c",
   "metadata": {},
   "outputs": [],
   "source": [
    "import pandas as pd\n",
    "import gradio as gr\n",
    "\n",
    "\n",
    "def get_BFCs(results_df):\n",
    "    df = results_df[['id', 'commit_hash', 'is_bug_fixing_commit']]\n",
    "    df = df.rename(columns={'commit_hash': 'hash', 'is_bug_fixing_commit': 'BFC'})\n",
    "    df['hash'] = df['hash'].str.slice(0, 10)\n",
    "    return df\n",
    "\n",
    "results_A = pd.read_csv('130_results_michel.csv')\n",
    "results_B = pd.read_csv('130_results_abhishek.csv')\n",
    "results_C = pd.read_csv('130_results_david.csv')\n",
    "\n",
    "BFCs_A = get_BFCs(results_A)\n",
    "BFCs_B = get_BFCs(results_B)\n",
    "BFCs_C = get_BFCs(results_C)\n",
    "\n",
    "BFCs = pd.merge(BFCs_A, BFCs_B, on='hash', how='inner', suffixes=('A', 'B'))\n",
    "\n",
    "BFCs = pd.merge(BFCs, BFCs_C, on='hash', how='inner', suffixes=('', 'C'))\n",
    "BFCs = BFCs[['hash', 'BFCA', 'BFCB', 'BFC']]\n",
    "BFCs = BFCs.rename(columns={'BFC': 'BFCC'})"
   ]
  },
  {
   "cell_type": "code",
   "execution_count": 146,
   "id": "54ee73bc-9ffe-46c9-87b3-4b145b670f89",
   "metadata": {},
   "outputs": [],
   "source": [
    "def get_annotation(df, hash):\n",
    "    \"\"\"Produce markdown for the annotation of a given short hash\n",
    "    in the annotation dataframe\n",
    "    \"\"\"\n",
    "    rows = df.loc[df['commit_hash'].str.startswith(hash)]\n",
    "    row = rows.iloc[0].to_dict()\n",
    "    hash_long = row['commit_hash']\n",
    "    link = f\"https://git.kernel.org/pub/scm/linux/kernel/git/torvalds/linux.git/commit/?h=v6.7&id={hash}\"\n",
    "    is_bfc = row['is_bug_fixing_commit']\n",
    "    is_obvious = row['is_obvious_bug']\n",
    "    is_safety = row['is_safety_related']\n",
    "    comment = row['comment']\n",
    "    visited = row['link_visited']\n",
    "    result = (f\"[{hash}]({link})\\n* bfc: {is_bfc}\\n* obvious: {is_obvious}\\n\"\n",
    "              f\"* safety: {is_safety}\\n* visited: {visited}\\n\"\n",
    "              f\"* comment: {comment}\")\n",
    "    return result\n",
    "port =10020"
   ]
  },
  {
   "cell_type": "code",
   "execution_count": 147,
   "id": "94c646fe-85d2-4415-bfb7-6aa8892bc0df",
   "metadata": {},
   "outputs": [
    {
     "name": "stdout",
     "output_type": "stream",
     "text": [
      "Running on local URL:  http://127.0.0.1:10021\n",
      "\n",
      "To create a public link, set `share=True` in `launch()`.\n"
     ]
    },
    {
     "data": {
      "text/html": [
       "<div><iframe src=\"http://127.0.0.1:10021/\" width=\"100%\" height=\"500\" allow=\"autoplay; camera; microphone; clipboard-read; clipboard-write;\" frameborder=\"0\" allowfullscreen></iframe></div>"
      ],
      "text/plain": [
       "<IPython.core.display.HTML object>"
      ]
     },
     "metadata": {},
     "output_type": "display_data"
    },
    {
     "data": {
      "text/plain": []
     },
     "execution_count": 147,
     "metadata": {},
     "output_type": "execute_result"
    }
   ],
   "source": [
    "with gr.Blocks() as ui:\n",
    "    with gr.Row():\n",
    "        filter_ddw = gr.Dropdown(choices=[(\"All\", \"all\"),\n",
    "                                  (\"All annotators equal\", \"all-equal\"),\n",
    "                                  (\"Any annotator different\", \"any-dif\"),\n",
    "                                  (\"Annotators A, B different\", \"ab-dif\"),\n",
    "                                  (\"Annotators B, C different\", \"bc-dif\"),\n",
    "                                  (\"Annotators A, C different\", \"ac-dif\")],\n",
    "                                value=\"all\")\n",
    "        count_md = gr.Markdown(f\"Commits: {len(BFCs.index)}\")\n",
    "    bfcs_df = gr.Dataframe(value=BFCs, height=300)\n",
    "    with gr.Row():\n",
    "        A_md = gr.Markdown()\n",
    "        B_md = gr.Markdown()\n",
    "        C_md = gr.Markdown()\n",
    "\n",
    "    @filter_ddw.change(inputs=[filter_ddw], outputs=[bfcs_df, count_md])\n",
    "    def filter_records(choice):\n",
    "        if choice == \"all\":\n",
    "            df = BFCs\n",
    "        elif choice == \"all-equal\":\n",
    "            df = BFCs.query(\"(BFCA == BFCB) and (BFCB == BFCC)\")\n",
    "        elif choice == \"any-dif\":\n",
    "            df = BFCs.query(\"(BFCA != BFCB) or (BFCB != BFCC)\")\n",
    "        elif choice == \"ab-dif\":\n",
    "            df = BFCs.query(\"BFCA != BFCB\")\n",
    "        elif choice == \"bc-dif\":\n",
    "            df = BFCs.query(\"BFCB != BFCC\")\n",
    "        elif choice == \"ac-dif\":\n",
    "            df = BFCs.query(\"BFCA != BFCC\")\n",
    "        count = len(df.index)\n",
    "        return df, f\"Commits: {count}\"\n",
    "        \n",
    "    def select_commit(event: gr.SelectData, bfcs):\n",
    "        #print(event.index, event.target, event.value, bfcs)\n",
    "        row = bfcs.iloc[event.index[0]]\n",
    "        hash = row['hash']\n",
    "        annot_A = get_annotation(results_A, hash)\n",
    "        annot_B = get_annotation(results_B, hash)\n",
    "        annot_C = get_annotation(results_C, hash)\n",
    "        return \"**A**\\n\\n\" + annot_A, \"**B**\\n\\n\" + annot_B, \"**C**\\n\\n\" + annot_C\n",
    "        \n",
    "    bfcs_df.select(select_commit, [bfcs_df], [A_md, B_md, C_md])\n",
    "\n",
    "port = port + 1\n",
    "ui.launch(server_port=port)"
   ]
  }
 ],
 "metadata": {
  "kernelspec": {
   "display_name": "Python 3 (ipykernel)",
   "language": "python",
   "name": "python3"
  },
  "language_info": {
   "codemirror_mode": {
    "name": "ipython",
    "version": 3
   },
   "file_extension": ".py",
   "mimetype": "text/x-python",
   "name": "python",
   "nbconvert_exporter": "python",
   "pygments_lexer": "ipython3",
   "version": "3.11.7"
  }
 },
 "nbformat": 4,
 "nbformat_minor": 5
}

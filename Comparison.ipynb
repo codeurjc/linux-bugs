{
 "cells": [
  {
   "cell_type": "code",
   "execution_count": 186,
   "id": "fb31239d-b267-466d-b420-cbe262f8ef9c",
   "metadata": {},
   "outputs": [],
   "source": [
    "import pandas as pd\n",
    "import gradio as gr\n",
    "\n",
    "\n",
    "def get_BFCs(results_df):\n",
    "    df = results_df[['id', 'commit_hash', 'is_bug_fixing_commit']]\n",
    "    df = df.rename(columns={'commit_hash': 'hash', 'is_bug_fixing_commit': 'BFC'})\n",
    "    df['hash'] = df['hash'].str.slice(0, 10)\n",
    "    return df\n",
    "\n",
    "results_A = pd.read_csv('130_results_michel.csv')\n",
    "results_B = pd.read_csv('130_results_abhishek.csv')\n",
    "results_C = pd.read_csv('130_results_david.csv')\n",
    "\n",
    "BFCs_A = get_BFCs(results_A)\n",
    "BFCs_B = get_BFCs(results_B)\n",
    "BFCs_C = get_BFCs(results_C)\n",
    "\n",
    "BFCs = pd.merge(BFCs_A, BFCs_B, on='hash', how='inner', suffixes=('A', 'B'))\n",
    "\n",
    "BFCs = pd.merge(BFCs, BFCs_C, on='hash', how='inner', suffixes=('', 'C'))\n",
    "BFCs = BFCs[['hash', 'BFCA', 'BFCB', 'BFC']]\n",
    "BFCs = BFCs.rename(columns={'BFC': 'BFCC'})\n",
    "BFCs['hash'] = BFCs['hash'].str[:10]"
   ]
  },
  {
   "cell_type": "code",
   "execution_count": 187,
   "id": "b15647b8-5cad-42be-b21b-6bb0874228ec",
   "metadata": {},
   "outputs": [],
   "source": [
    "total_commits = len(BFCs)\n",
    "BFCs_R = pd.read_csv('130_review.csv')\n",
    "BFCs = pd.merge(BFCs, BFCs_R, on='hash', how='inner')\n",
    "BFCs['BFCR'] = BFCs['bfc']\n",
    "BFCs_disagree = BFCs.query(\"(BFCA != BFCB) or (BFCA != BFCC)\")\n",
    "total_disagree = len(BFCs_disagree)"
   ]
  },
  {
   "cell_type": "code",
   "execution_count": 195,
   "id": "bf0144dd-06de-4b2b-8f0a-e918da5c0bae",
   "metadata": {},
   "outputs": [
    {
     "name": "stdout",
     "output_type": "stream",
     "text": [
      "Total commits: 129\n",
      "Total disagreement: 33\n",
      "     A    B    C    R\n",
      "A        30   15   13 \n",
      "B             21   19 \n",
      "C                   8 \n",
      "R                     \n",
      "       A      B      C      R\n",
      "A        23.26% 11.63% 10.08% \n",
      "B               16.28% 14.73% \n",
      "C                      6.20% \n",
      "R                             \n"
     ]
    }
   ],
   "source": [
    "print(f\"Total commits: {total_commits}\")\n",
    "print(f\"Total disagreement: {total_disagree}\")\n",
    "\n",
    "persons = ['A', 'B', 'C', 'R']\n",
    "print(\"    \", \"    \".join(persons))\n",
    "for row in persons:\n",
    "    print(f\"{row}\", end=\" \")\n",
    "    for column in ['A', 'B', 'C', 'R']:\n",
    "        if column > row:\n",
    "            dis = len(BFCs_disagree.query(f\"(BFC{column} != BFC{row})\"))\n",
    "            print(f\"{dis:>4}\", end=\" \")\n",
    "        else:\n",
    "            print(\"    \", end=\" \")\n",
    "    print()\n",
    "\n",
    "persons = ['A', 'B', 'C', 'R']\n",
    "print(\"      \", \"      \".join(persons))\n",
    "for row in persons:\n",
    "    print(f\"{row}\", end=\" \")\n",
    "    for column in ['A', 'B', 'C', 'R']:\n",
    "        if column > row:\n",
    "            dis = len(BFCs_disagree.query(f\"(BFC{column} != BFC{row})\"))\n",
    "            dis = (dis / total_commits)\n",
    "            print(f\"{dis:2.2%}\", end=\" \")\n",
    "        else:\n",
    "            print(\"      \", end=\" \")\n",
    "    print()\n"
   ]
  }
 ],
 "metadata": {
  "kernelspec": {
   "display_name": "Python 3 (ipykernel)",
   "language": "python",
   "name": "python3"
  },
  "language_info": {
   "codemirror_mode": {
    "name": "ipython",
    "version": 3
   },
   "file_extension": ".py",
   "mimetype": "text/x-python",
   "name": "python",
   "nbconvert_exporter": "python",
   "pygments_lexer": "ipython3",
   "version": "3.11.7"
  }
 },
 "nbformat": 4,
 "nbformat_minor": 5
}

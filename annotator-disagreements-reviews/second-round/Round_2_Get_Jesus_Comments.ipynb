{
 "cells": [
  {
   "cell_type": "markdown",
   "id": "952ef0d7-6c0d-4bad-97ce-439a8492afb0",
   "metadata": {},
   "source": [
    "# Get Jesus comments on those ones that we have still disagreements."
   ]
  },
  {
   "cell_type": "code",
   "execution_count": 1,
   "id": "de8490c6-3bad-4013-ab97-a116271b652c",
   "metadata": {},
   "outputs": [
    {
     "name": "stdout",
     "output_type": "stream",
     "text": [
      "          hash reviewer  iunderstd  understd  bfc  bpc  prc  nfc  asc  spec  \\\n",
      "4   088c840599    jesus          4      True    0    4    0    0    4     0   \n",
      "5   3364c6ce23    jesus          4      True    0    4    0    0    4     0   \n",
      "6   e973746882    jesus          4     False    4    0    0    0    0     0   \n",
      "13  6c1f41afc1    jesus          3      True    4    0    0    0    0     0   \n",
      "15  16b1941eac    jesus          4      True    4    0    0    0    4     0   \n",
      "\n",
      "    obc  safety patchset                                            comment  \n",
      "4     0     0.0     True  INFO: This seems to me clearly a BPC, fixing a...  \n",
      "5     0     0.0    False  Fixing a warning by the compiled, when -Warray...  \n",
      "6     0     0.0    False  INFO. The discussion in LORE [1] shows what is...  \n",
      "13    0     1.0    False  It seems this is fixing a case that causes mal...  \n",
      "15    0     3.0    False  INFO. This seems like a clear BFC, triggered b...  \n"
     ]
    }
   ],
   "source": [
    "import pandas as pd\n",
    "\n",
    "def filter_by_hash(hash_csv, data_csv):\n",
    "    \"\"\"\n",
    "    Filtra las filas de data_csv según los hashes presentes en hash_csv.\n",
    "    \n",
    "    Parameters:\n",
    "    - hash_csv (str): Ruta del CSV que contiene la columna 'hash' a filtrar.\n",
    "    - data_csv (str): Ruta del CSV con las columnas completas para filtrar.\n",
    "\n",
    "    Returns:\n",
    "    - pd.DataFrame: DataFrame filtrado con las filas cuyos hashes coinciden.\n",
    "    \"\"\"\n",
    "    # Leer los CSVs\n",
    "    hashes = pd.read_csv(hash_csv)\n",
    "    data = pd.read_csv(data_csv)\n",
    "    \n",
    "    # Filtrar las filas donde el hash coincide\n",
    "    filtered_data = data[data['hash'].isin(hashes['hash'])]\n",
    "    \n",
    "    return filtered_data\n",
    "\n",
    "# Cargar los CSVs y filtrar\n",
    "hash_csv = '../data/round1_disagreement_bfc_hashes.csv'  # CSV con solo la columna hash\n",
    "data_csv = '../data/review_jesus.csv'  # CSV con las columnas completas\n",
    "\n",
    "filtered_df = filter_by_hash(hash_csv, data_csv)\n",
    "\n",
    "# Guardar el DataFrame filtrado si es necesario\n",
    "filtered_df.to_csv('../data/round2_review_jesus_filtered_annotations.csv', index=False)\n",
    "\n",
    "# Mostrar los primeros registros filtrados (opcional)\n",
    "print(filtered_df.head())"
   ]
  },
  {
   "cell_type": "code",
   "execution_count": null,
   "id": "b1492777-e768-4361-a87a-0a2af8475d93",
   "metadata": {},
   "outputs": [],
   "source": []
  }
 ],
 "metadata": {
  "kernelspec": {
   "display_name": "Python 3 (ipykernel)",
   "language": "python",
   "name": "python3"
  },
  "language_info": {
   "codemirror_mode": {
    "name": "ipython",
    "version": 3
   },
   "file_extension": ".py",
   "mimetype": "text/x-python",
   "name": "python",
   "nbconvert_exporter": "python",
   "pygments_lexer": "ipython3",
   "version": "3.10.12"
  }
 },
 "nbformat": 4,
 "nbformat_minor": 5
}

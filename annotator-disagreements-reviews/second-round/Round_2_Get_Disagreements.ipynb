{
 "cells": [
  {
   "cell_type": "markdown",
   "id": "8457bd61-5c1b-4f73-a6fa-564bd64e5858",
   "metadata": {},
   "source": [
    "# Load data from annotators and reviewer and change those one with more annotations"
   ]
  },
  {
   "cell_type": "code",
   "execution_count": 1,
   "id": "a90452c3-a7ff-4a27-a1c1-217be7116102",
   "metadata": {},
   "outputs": [
    {
     "ename": "FileNotFoundError",
     "evalue": "[Errno 2] No such file or directory: '../data/annotations_Michel2.csv'",
     "output_type": "error",
     "traceback": [
      "\u001b[0;31m---------------------------------------------------------------------------\u001b[0m",
      "\u001b[0;31mFileNotFoundError\u001b[0m                         Traceback (most recent call last)",
      "Cell \u001b[0;32mIn[1], line 27\u001b[0m\n\u001b[1;32m     24\u001b[0m results_B \u001b[38;5;241m=\u001b[39m pd\u001b[38;5;241m.\u001b[39mread_csv(\u001b[38;5;124m'\u001b[39m\u001b[38;5;124m../data/round1_annotations_Abhishek.csv\u001b[39m\u001b[38;5;124m'\u001b[39m)\n\u001b[1;32m     25\u001b[0m results_C \u001b[38;5;241m=\u001b[39m pd\u001b[38;5;241m.\u001b[39mread_csv(\u001b[38;5;124m'\u001b[39m\u001b[38;5;124m../data/round1_annotations_David.csv\u001b[39m\u001b[38;5;124m'\u001b[39m)\n\u001b[0;32m---> 27\u001b[0m results_A1 \u001b[38;5;241m=\u001b[39m \u001b[43mpd\u001b[49m\u001b[38;5;241;43m.\u001b[39;49m\u001b[43mread_csv\u001b[49m\u001b[43m(\u001b[49m\u001b[38;5;124;43m'\u001b[39;49m\u001b[38;5;124;43m../data/annotations_Michel2.csv\u001b[39;49m\u001b[38;5;124;43m'\u001b[39;49m\u001b[43m)\u001b[49m\n\u001b[1;32m     28\u001b[0m results_B1 \u001b[38;5;241m=\u001b[39m pd\u001b[38;5;241m.\u001b[39mread_csv(\u001b[38;5;124m'\u001b[39m\u001b[38;5;124m../data/annotations_Abhishek2.csv\u001b[39m\u001b[38;5;124m'\u001b[39m)\n\u001b[1;32m     29\u001b[0m results_C1 \u001b[38;5;241m=\u001b[39m pd\u001b[38;5;241m.\u001b[39mread_csv(\u001b[38;5;124m'\u001b[39m\u001b[38;5;124m../data/annotations_David2.csv\u001b[39m\u001b[38;5;124m'\u001b[39m)\n",
      "File \u001b[0;32m~/venvs/linuxbugs/lib/python3.10/site-packages/pandas/io/parsers/readers.py:1026\u001b[0m, in \u001b[0;36mread_csv\u001b[0;34m(filepath_or_buffer, sep, delimiter, header, names, index_col, usecols, dtype, engine, converters, true_values, false_values, skipinitialspace, skiprows, skipfooter, nrows, na_values, keep_default_na, na_filter, verbose, skip_blank_lines, parse_dates, infer_datetime_format, keep_date_col, date_parser, date_format, dayfirst, cache_dates, iterator, chunksize, compression, thousands, decimal, lineterminator, quotechar, quoting, doublequote, escapechar, comment, encoding, encoding_errors, dialect, on_bad_lines, delim_whitespace, low_memory, memory_map, float_precision, storage_options, dtype_backend)\u001b[0m\n\u001b[1;32m   1013\u001b[0m kwds_defaults \u001b[38;5;241m=\u001b[39m _refine_defaults_read(\n\u001b[1;32m   1014\u001b[0m     dialect,\n\u001b[1;32m   1015\u001b[0m     delimiter,\n\u001b[0;32m   (...)\u001b[0m\n\u001b[1;32m   1022\u001b[0m     dtype_backend\u001b[38;5;241m=\u001b[39mdtype_backend,\n\u001b[1;32m   1023\u001b[0m )\n\u001b[1;32m   1024\u001b[0m kwds\u001b[38;5;241m.\u001b[39mupdate(kwds_defaults)\n\u001b[0;32m-> 1026\u001b[0m \u001b[38;5;28;01mreturn\u001b[39;00m \u001b[43m_read\u001b[49m\u001b[43m(\u001b[49m\u001b[43mfilepath_or_buffer\u001b[49m\u001b[43m,\u001b[49m\u001b[43m \u001b[49m\u001b[43mkwds\u001b[49m\u001b[43m)\u001b[49m\n",
      "File \u001b[0;32m~/venvs/linuxbugs/lib/python3.10/site-packages/pandas/io/parsers/readers.py:620\u001b[0m, in \u001b[0;36m_read\u001b[0;34m(filepath_or_buffer, kwds)\u001b[0m\n\u001b[1;32m    617\u001b[0m _validate_names(kwds\u001b[38;5;241m.\u001b[39mget(\u001b[38;5;124m\"\u001b[39m\u001b[38;5;124mnames\u001b[39m\u001b[38;5;124m\"\u001b[39m, \u001b[38;5;28;01mNone\u001b[39;00m))\n\u001b[1;32m    619\u001b[0m \u001b[38;5;66;03m# Create the parser.\u001b[39;00m\n\u001b[0;32m--> 620\u001b[0m parser \u001b[38;5;241m=\u001b[39m \u001b[43mTextFileReader\u001b[49m\u001b[43m(\u001b[49m\u001b[43mfilepath_or_buffer\u001b[49m\u001b[43m,\u001b[49m\u001b[43m \u001b[49m\u001b[38;5;241;43m*\u001b[39;49m\u001b[38;5;241;43m*\u001b[39;49m\u001b[43mkwds\u001b[49m\u001b[43m)\u001b[49m\n\u001b[1;32m    622\u001b[0m \u001b[38;5;28;01mif\u001b[39;00m chunksize \u001b[38;5;129;01mor\u001b[39;00m iterator:\n\u001b[1;32m    623\u001b[0m     \u001b[38;5;28;01mreturn\u001b[39;00m parser\n",
      "File \u001b[0;32m~/venvs/linuxbugs/lib/python3.10/site-packages/pandas/io/parsers/readers.py:1620\u001b[0m, in \u001b[0;36mTextFileReader.__init__\u001b[0;34m(self, f, engine, **kwds)\u001b[0m\n\u001b[1;32m   1617\u001b[0m     \u001b[38;5;28mself\u001b[39m\u001b[38;5;241m.\u001b[39moptions[\u001b[38;5;124m\"\u001b[39m\u001b[38;5;124mhas_index_names\u001b[39m\u001b[38;5;124m\"\u001b[39m] \u001b[38;5;241m=\u001b[39m kwds[\u001b[38;5;124m\"\u001b[39m\u001b[38;5;124mhas_index_names\u001b[39m\u001b[38;5;124m\"\u001b[39m]\n\u001b[1;32m   1619\u001b[0m \u001b[38;5;28mself\u001b[39m\u001b[38;5;241m.\u001b[39mhandles: IOHandles \u001b[38;5;241m|\u001b[39m \u001b[38;5;28;01mNone\u001b[39;00m \u001b[38;5;241m=\u001b[39m \u001b[38;5;28;01mNone\u001b[39;00m\n\u001b[0;32m-> 1620\u001b[0m \u001b[38;5;28mself\u001b[39m\u001b[38;5;241m.\u001b[39m_engine \u001b[38;5;241m=\u001b[39m \u001b[38;5;28;43mself\u001b[39;49m\u001b[38;5;241;43m.\u001b[39;49m\u001b[43m_make_engine\u001b[49m\u001b[43m(\u001b[49m\u001b[43mf\u001b[49m\u001b[43m,\u001b[49m\u001b[43m \u001b[49m\u001b[38;5;28;43mself\u001b[39;49m\u001b[38;5;241;43m.\u001b[39;49m\u001b[43mengine\u001b[49m\u001b[43m)\u001b[49m\n",
      "File \u001b[0;32m~/venvs/linuxbugs/lib/python3.10/site-packages/pandas/io/parsers/readers.py:1880\u001b[0m, in \u001b[0;36mTextFileReader._make_engine\u001b[0;34m(self, f, engine)\u001b[0m\n\u001b[1;32m   1878\u001b[0m     \u001b[38;5;28;01mif\u001b[39;00m \u001b[38;5;124m\"\u001b[39m\u001b[38;5;124mb\u001b[39m\u001b[38;5;124m\"\u001b[39m \u001b[38;5;129;01mnot\u001b[39;00m \u001b[38;5;129;01min\u001b[39;00m mode:\n\u001b[1;32m   1879\u001b[0m         mode \u001b[38;5;241m+\u001b[39m\u001b[38;5;241m=\u001b[39m \u001b[38;5;124m\"\u001b[39m\u001b[38;5;124mb\u001b[39m\u001b[38;5;124m\"\u001b[39m\n\u001b[0;32m-> 1880\u001b[0m \u001b[38;5;28mself\u001b[39m\u001b[38;5;241m.\u001b[39mhandles \u001b[38;5;241m=\u001b[39m \u001b[43mget_handle\u001b[49m\u001b[43m(\u001b[49m\n\u001b[1;32m   1881\u001b[0m \u001b[43m    \u001b[49m\u001b[43mf\u001b[49m\u001b[43m,\u001b[49m\n\u001b[1;32m   1882\u001b[0m \u001b[43m    \u001b[49m\u001b[43mmode\u001b[49m\u001b[43m,\u001b[49m\n\u001b[1;32m   1883\u001b[0m \u001b[43m    \u001b[49m\u001b[43mencoding\u001b[49m\u001b[38;5;241;43m=\u001b[39;49m\u001b[38;5;28;43mself\u001b[39;49m\u001b[38;5;241;43m.\u001b[39;49m\u001b[43moptions\u001b[49m\u001b[38;5;241;43m.\u001b[39;49m\u001b[43mget\u001b[49m\u001b[43m(\u001b[49m\u001b[38;5;124;43m\"\u001b[39;49m\u001b[38;5;124;43mencoding\u001b[39;49m\u001b[38;5;124;43m\"\u001b[39;49m\u001b[43m,\u001b[49m\u001b[43m \u001b[49m\u001b[38;5;28;43;01mNone\u001b[39;49;00m\u001b[43m)\u001b[49m\u001b[43m,\u001b[49m\n\u001b[1;32m   1884\u001b[0m \u001b[43m    \u001b[49m\u001b[43mcompression\u001b[49m\u001b[38;5;241;43m=\u001b[39;49m\u001b[38;5;28;43mself\u001b[39;49m\u001b[38;5;241;43m.\u001b[39;49m\u001b[43moptions\u001b[49m\u001b[38;5;241;43m.\u001b[39;49m\u001b[43mget\u001b[49m\u001b[43m(\u001b[49m\u001b[38;5;124;43m\"\u001b[39;49m\u001b[38;5;124;43mcompression\u001b[39;49m\u001b[38;5;124;43m\"\u001b[39;49m\u001b[43m,\u001b[49m\u001b[43m \u001b[49m\u001b[38;5;28;43;01mNone\u001b[39;49;00m\u001b[43m)\u001b[49m\u001b[43m,\u001b[49m\n\u001b[1;32m   1885\u001b[0m \u001b[43m    \u001b[49m\u001b[43mmemory_map\u001b[49m\u001b[38;5;241;43m=\u001b[39;49m\u001b[38;5;28;43mself\u001b[39;49m\u001b[38;5;241;43m.\u001b[39;49m\u001b[43moptions\u001b[49m\u001b[38;5;241;43m.\u001b[39;49m\u001b[43mget\u001b[49m\u001b[43m(\u001b[49m\u001b[38;5;124;43m\"\u001b[39;49m\u001b[38;5;124;43mmemory_map\u001b[39;49m\u001b[38;5;124;43m\"\u001b[39;49m\u001b[43m,\u001b[49m\u001b[43m \u001b[49m\u001b[38;5;28;43;01mFalse\u001b[39;49;00m\u001b[43m)\u001b[49m\u001b[43m,\u001b[49m\n\u001b[1;32m   1886\u001b[0m \u001b[43m    \u001b[49m\u001b[43mis_text\u001b[49m\u001b[38;5;241;43m=\u001b[39;49m\u001b[43mis_text\u001b[49m\u001b[43m,\u001b[49m\n\u001b[1;32m   1887\u001b[0m \u001b[43m    \u001b[49m\u001b[43merrors\u001b[49m\u001b[38;5;241;43m=\u001b[39;49m\u001b[38;5;28;43mself\u001b[39;49m\u001b[38;5;241;43m.\u001b[39;49m\u001b[43moptions\u001b[49m\u001b[38;5;241;43m.\u001b[39;49m\u001b[43mget\u001b[49m\u001b[43m(\u001b[49m\u001b[38;5;124;43m\"\u001b[39;49m\u001b[38;5;124;43mencoding_errors\u001b[39;49m\u001b[38;5;124;43m\"\u001b[39;49m\u001b[43m,\u001b[49m\u001b[43m \u001b[49m\u001b[38;5;124;43m\"\u001b[39;49m\u001b[38;5;124;43mstrict\u001b[39;49m\u001b[38;5;124;43m\"\u001b[39;49m\u001b[43m)\u001b[49m\u001b[43m,\u001b[49m\n\u001b[1;32m   1888\u001b[0m \u001b[43m    \u001b[49m\u001b[43mstorage_options\u001b[49m\u001b[38;5;241;43m=\u001b[39;49m\u001b[38;5;28;43mself\u001b[39;49m\u001b[38;5;241;43m.\u001b[39;49m\u001b[43moptions\u001b[49m\u001b[38;5;241;43m.\u001b[39;49m\u001b[43mget\u001b[49m\u001b[43m(\u001b[49m\u001b[38;5;124;43m\"\u001b[39;49m\u001b[38;5;124;43mstorage_options\u001b[39;49m\u001b[38;5;124;43m\"\u001b[39;49m\u001b[43m,\u001b[49m\u001b[43m \u001b[49m\u001b[38;5;28;43;01mNone\u001b[39;49;00m\u001b[43m)\u001b[49m\u001b[43m,\u001b[49m\n\u001b[1;32m   1889\u001b[0m \u001b[43m\u001b[49m\u001b[43m)\u001b[49m\n\u001b[1;32m   1890\u001b[0m \u001b[38;5;28;01massert\u001b[39;00m \u001b[38;5;28mself\u001b[39m\u001b[38;5;241m.\u001b[39mhandles \u001b[38;5;129;01mis\u001b[39;00m \u001b[38;5;129;01mnot\u001b[39;00m \u001b[38;5;28;01mNone\u001b[39;00m\n\u001b[1;32m   1891\u001b[0m f \u001b[38;5;241m=\u001b[39m \u001b[38;5;28mself\u001b[39m\u001b[38;5;241m.\u001b[39mhandles\u001b[38;5;241m.\u001b[39mhandle\n",
      "File \u001b[0;32m~/venvs/linuxbugs/lib/python3.10/site-packages/pandas/io/common.py:873\u001b[0m, in \u001b[0;36mget_handle\u001b[0;34m(path_or_buf, mode, encoding, compression, memory_map, is_text, errors, storage_options)\u001b[0m\n\u001b[1;32m    868\u001b[0m \u001b[38;5;28;01melif\u001b[39;00m \u001b[38;5;28misinstance\u001b[39m(handle, \u001b[38;5;28mstr\u001b[39m):\n\u001b[1;32m    869\u001b[0m     \u001b[38;5;66;03m# Check whether the filename is to be opened in binary mode.\u001b[39;00m\n\u001b[1;32m    870\u001b[0m     \u001b[38;5;66;03m# Binary mode does not support 'encoding' and 'newline'.\u001b[39;00m\n\u001b[1;32m    871\u001b[0m     \u001b[38;5;28;01mif\u001b[39;00m ioargs\u001b[38;5;241m.\u001b[39mencoding \u001b[38;5;129;01mand\u001b[39;00m \u001b[38;5;124m\"\u001b[39m\u001b[38;5;124mb\u001b[39m\u001b[38;5;124m\"\u001b[39m \u001b[38;5;129;01mnot\u001b[39;00m \u001b[38;5;129;01min\u001b[39;00m ioargs\u001b[38;5;241m.\u001b[39mmode:\n\u001b[1;32m    872\u001b[0m         \u001b[38;5;66;03m# Encoding\u001b[39;00m\n\u001b[0;32m--> 873\u001b[0m         handle \u001b[38;5;241m=\u001b[39m \u001b[38;5;28;43mopen\u001b[39;49m\u001b[43m(\u001b[49m\n\u001b[1;32m    874\u001b[0m \u001b[43m            \u001b[49m\u001b[43mhandle\u001b[49m\u001b[43m,\u001b[49m\n\u001b[1;32m    875\u001b[0m \u001b[43m            \u001b[49m\u001b[43mioargs\u001b[49m\u001b[38;5;241;43m.\u001b[39;49m\u001b[43mmode\u001b[49m\u001b[43m,\u001b[49m\n\u001b[1;32m    876\u001b[0m \u001b[43m            \u001b[49m\u001b[43mencoding\u001b[49m\u001b[38;5;241;43m=\u001b[39;49m\u001b[43mioargs\u001b[49m\u001b[38;5;241;43m.\u001b[39;49m\u001b[43mencoding\u001b[49m\u001b[43m,\u001b[49m\n\u001b[1;32m    877\u001b[0m \u001b[43m            \u001b[49m\u001b[43merrors\u001b[49m\u001b[38;5;241;43m=\u001b[39;49m\u001b[43merrors\u001b[49m\u001b[43m,\u001b[49m\n\u001b[1;32m    878\u001b[0m \u001b[43m            \u001b[49m\u001b[43mnewline\u001b[49m\u001b[38;5;241;43m=\u001b[39;49m\u001b[38;5;124;43m\"\u001b[39;49m\u001b[38;5;124;43m\"\u001b[39;49m\u001b[43m,\u001b[49m\n\u001b[1;32m    879\u001b[0m \u001b[43m        \u001b[49m\u001b[43m)\u001b[49m\n\u001b[1;32m    880\u001b[0m     \u001b[38;5;28;01melse\u001b[39;00m:\n\u001b[1;32m    881\u001b[0m         \u001b[38;5;66;03m# Binary mode\u001b[39;00m\n\u001b[1;32m    882\u001b[0m         handle \u001b[38;5;241m=\u001b[39m \u001b[38;5;28mopen\u001b[39m(handle, ioargs\u001b[38;5;241m.\u001b[39mmode)\n",
      "\u001b[0;31mFileNotFoundError\u001b[0m: [Errno 2] No such file or directory: '../data/annotations_Michel2.csv'"
     ]
    }
   ],
   "source": [
    "import pandas as pd\n",
    "\n",
    "def replace_rows_by_hash(original_df, new_df):\n",
    "    \"\"\"\n",
    "    Reemplaza las filas en original_df con los datos de new_df \n",
    "    donde el valor de 'hash' coincida.\n",
    "    \n",
    "    Parameters:\n",
    "    - original_df (pd.DataFrame): DataFrame original con las anotaciones.\n",
    "    - new_df (pd.DataFrame): DataFrame con las nuevas anotaciones.\n",
    "\n",
    "    Returns:\n",
    "    - pd.DataFrame: DataFrame actualizado con las filas reemplazadas.\n",
    "    \"\"\"\n",
    "    original_df = original_df.set_index('hash')\n",
    "    new_df = new_df.set_index('hash')\n",
    "    \n",
    "    original_df.update(new_df)\n",
    "    \n",
    "    return original_df.reset_index()\n",
    "\n",
    "# Load new CSV and old of round 1\n",
    "results_A = pd.read_csv('../data/round1_annotations_Michel.csv')\n",
    "results_B = pd.read_csv('../data/round1_annotations_Abhishek.csv')\n",
    "results_C = pd.read_csv('../data/round1_annotations_David.csv')\n",
    "\n",
    "results_A1 = pd.read_csv('../data/annotations_Michel2.csv')\n",
    "results_B1 = pd.read_csv('../data/annotations_Abhishek2.csv')\n",
    "results_C1 = pd.read_csv('../data/annotations_David2.csv')\n",
    "\n",
    "# Updated with new annotations after first round\n",
    "updated_A = replace_rows_by_hash(results_A, results_A1)\n",
    "updated_B = replace_rows_by_hash(results_B, results_B1)\n",
    "updated_C = replace_rows_by_hash(results_C, results_C1)\n",
    "\n",
    "updated_A.to_csv('../data/round2_annotations_Michel.csv', index=False)\n",
    "updated_B.to_csv('../data/round2_annotations_Abhishek.csv', index=False)\n",
    "updated_C.to_csv('../data/round2_annotations_David.csv', index=False)"
   ]
  },
  {
   "cell_type": "markdown",
   "id": "49191b29-2c1c-4354-a135-a255f4abf582",
   "metadata": {},
   "source": [
    "# Get BFC, BPC, PRC y NFC"
   ]
  },
  {
   "cell_type": "code",
   "execution_count": 3,
   "id": "e06642db-1d4e-4586-a2d5-f07315f404b1",
   "metadata": {},
   "outputs": [],
   "source": [
    "def get_BFCs(results_df):\n",
    "    df = results_df[['hash', 'bfc']]\n",
    "    return df\n",
    "\n",
    "def get_BPCs(results_df):\n",
    "    df = results_df[['hash', 'bpc']]\n",
    "    return df\n",
    "\n",
    "def get_PRCs(results_df):\n",
    "    df = results_df[['hash', 'prc']]\n",
    "    return df\n",
    "\n",
    "def get_NFCs(results_df):\n",
    "    df = results_df[['hash', 'nfc']]\n",
    "    return df\n",
    "    \n",
    "# Get columns\n",
    "BFCs_A = get_BFCs(updated_A)\n",
    "BFCs_B = get_BFCs(updated_B)\n",
    "BFCs_C = get_BFCs(updated_C)\n",
    "\n",
    "BPCs_A = get_BPCs(updated_A)\n",
    "BPCs_B = get_BPCs(updated_B)\n",
    "BPCs_C = get_BPCs(updated_C)\n",
    "\n",
    "PRCs_A = get_PRCs(updated_A)\n",
    "PRCs_B = get_PRCs(updated_B)\n",
    "PRCs_C = get_PRCs(updated_C)\n",
    "\n",
    "NFCs_A = get_NFCs(updated_A)\n",
    "NFCs_B = get_NFCs(updated_B)\n",
    "NFCs_C = get_NFCs(updated_C)\n",
    "\n",
    "# Combine metrics\n",
    "# BFCs\n",
    "BFCs = pd.merge(BFCs_A, BFCs_B, on='hash', how='inner', suffixes=('A', 'B'))\n",
    "BFCs = pd.merge(BFCs, BFCs_C, on='hash', how='inner', suffixes=('', 'C'))\n",
    "BFCs = BFCs.rename(columns={'bfc': 'bfcC'})\n",
    "\n",
    "# BPCs\n",
    "BPCs = pd.merge(BPCs_A, BPCs_B, on='hash', how='inner', suffixes=('A', 'B'))\n",
    "BPCs = pd.merge(BPCs, BPCs_C, on='hash', how='inner', suffixes=('', 'C'))\n",
    "BPCs = BPCs.rename(columns={'bpc': 'bpcC'})\n",
    "\n",
    "# PRCs\n",
    "PRCs = pd.merge(PRCs_A, PRCs_B, on='hash', how='inner', suffixes=('A', 'B'))\n",
    "PRCs = pd.merge(PRCs, PRCs_C, on='hash', how='inner', suffixes=('', 'C'))\n",
    "PRCs = PRCs.rename(columns={'prc': 'prcC'})\n",
    "\n",
    "# NFCs\n",
    "NFCs = pd.merge(NFCs_A, NFCs_B, on='hash', how='inner', suffixes=('A', 'B'))\n",
    "NFCs = pd.merge(NFCs, NFCs_C, on='hash', how='inner', suffixes=('', 'C'))\n",
    "NFCs = NFCs.rename(columns={'nfc': 'nfcC'})\n",
    "\n",
    "# Join everything in one dataframe\n",
    "final_df = pd.merge(BFCs, BPCs, on='hash', how='inner')\n",
    "final_df = pd.merge(final_df, PRCs, on='hash', how='inner')\n",
    "final_df = pd.merge(final_df, NFCs, on='hash', how='inner')\n",
    "\n"
   ]
  },
  {
   "cell_type": "markdown",
   "id": "862ee80a-b05f-4f0f-b7d6-a4628d22d02a",
   "metadata": {},
   "source": [
    "# Get new disagreements and save the hashes of those ones that we have disagreement in BFC"
   ]
  },
  {
   "cell_type": "code",
   "execution_count": 5,
   "id": "9262ba9a-ad34-4780-980f-e502cebd86b2",
   "metadata": {},
   "outputs": [
    {
     "name": "stdout",
     "output_type": "stream",
     "text": [
      "Total commits with disagreement in BFC: 38\n",
      "Total commits with disagreement in BPC: 223\n",
      "Total commits with disagreement in PRC: 138\n",
      "Total commits with disagreement in NFC: 62\n",
      "Total unique hashes: 325\n"
     ]
    }
   ],
   "source": [
    "# Disagreement BFCs\n",
    "BFCs_disagree_1 = BFCs.query(\"(abs(bfcA - bfcB) > 1) or (abs(bfcA - bfcC) > 1) or (abs(bfcB - bfcC) > 1)\")\n",
    "total_BFCs_disagree_1 = len(BFCs_disagree_1)\n",
    "print(f\"Total commits with disagreement in BFC: {total_BFCs_disagree_1}\")\n",
    "\n",
    "# Disagreement BPCs\n",
    "BPCs_disagree_1 = BPCs.query(\"(abs(bpcA - bpcB) > 1) or (abs(bpcA - bpcC) > 1) or (abs(bpcB - bpcC) > 1)\")\n",
    "total_BPCs_disagree_1 = len(BPCs_disagree_1)\n",
    "print(f\"Total commits with disagreement in BPC: {total_BPCs_disagree_1}\")\n",
    "\n",
    "# Disagreement PRCs\n",
    "PRCs_disagree_1 = PRCs.query(\"(abs(prcA - prcB) > 1) or (abs(prcA - prcC) > 1) or (abs(prcB - prcC) > 1)\")\n",
    "total_PRCs_disagree_1 = len(PRCs_disagree_1)\n",
    "print(f\"Total commits with disagreement in PRC: {total_PRCs_disagree_1}\")\n",
    "\n",
    "# Disagreement NFCs\n",
    "NFCs_disagree_1 = NFCs.query(\"(abs(nfcA - nfcB) > 1) or (abs(nfcA - nfcC) > 1) or (abs(nfcB - nfcC) > 1)\")\n",
    "total_NFCs_disagree_1 = len(NFCs_disagree_1)\n",
    "print(f\"Total commits with disagreement in NFC: {total_NFCs_disagree_1}\")\n",
    "\n",
    "# Get hashes of all disagreements\n",
    "hashes_BFC = set(BFCs_disagree_1['hash'])\n",
    "hashes_BPC = set(BPCs_disagree_1['hash'])\n",
    "hashes_PRC = set(PRCs_disagree_1['hash'])\n",
    "hashes_NFC = set(NFCs_disagree_1['hash'])\n",
    "\n",
    "# Join all the hashes in one list\n",
    "all_hashes = hashes_BFC.union(hashes_BPC).union(hashes_PRC).union(hashes_NFC)\n",
    "unique_hashes_list = list(all_hashes)\n",
    "\n",
    "print(f\"Total unique hashes: {len(unique_hashes_list)}\")\n",
    "\n",
    "# To DF\n",
    "#unique_hashes_df = pd.DataFrame(unique_hashes_list, columns=['hash'])\n",
    "# Save disagreements into CSV\n",
    "#unique_hashes_df.to_csv('unique_hashes_first_round.csv', index=False)\n",
    "\n",
    "# Only for BFC\n",
    "unique_hashes_bfc_df = pd.DataFrame(hashes_BFC, columns=['hash'])\n",
    "# Save disagreements into CSV\n",
    "unique_hashes_bfc_df.to_csv('../data/round2_disagreement_bfc_hashes.csv', index=False)\n",
    "\n",
    "# Only for BPC\n",
    "#unique_hashes_bpc_df = pd.DataFrame(hashes_BPC, columns=['hash'])\n",
    "# Save disagreements into CSV\n",
    "#unique_hashes_bpc_df.to_csv('unique_hashes_bpc_first_round.csv', index=False)"
   ]
  },
  {
   "cell_type": "markdown",
   "id": "d50674ef-b60f-45a8-9285-d9f875243b68",
   "metadata": {},
   "source": []
  }
 ],
 "metadata": {
  "kernelspec": {
   "display_name": "Python 3 (ipykernel)",
   "language": "python",
   "name": "python3"
  },
  "language_info": {
   "codemirror_mode": {
    "name": "ipython",
    "version": 3
   },
   "file_extension": ".py",
   "mimetype": "text/x-python",
   "name": "python",
   "nbconvert_exporter": "python",
   "pygments_lexer": "ipython3",
   "version": "3.10.12"
  }
 },
 "nbformat": 4,
 "nbformat_minor": 5
}

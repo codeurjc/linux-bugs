{
 "cells": [
  {
   "cell_type": "markdown",
   "id": "8457bd61-5c1b-4f73-a6fa-564bd64e5858",
   "metadata": {},
   "source": [
    "# Load data from annotators and reviewer"
   ]
  },
  {
   "cell_type": "code",
   "execution_count": 2,
   "id": "f6187be4-ea75-4720-99f0-e5fbacae06ba",
   "metadata": {},
   "outputs": [
    {
     "name": "stdout",
     "output_type": "stream",
     "text": [
      "         hash  bfcA  bfcB  bfcC  bpcA  bpcB  bpcC  prcA  prcB  prcC  nfcA  \\\n",
      "0  0704a8586f     0     0     0     0     3     0     4     4     4     0   \n",
      "1  c5e97ed154     0     0     0     0     4     0     4     4     4     0   \n",
      "2  4f9f531e15     0     0     0     1     4     1     4     4     4     0   \n",
      "3  258030acc9     0     0     0     0     4     0     4     4     4     0   \n",
      "4  5b2c5540b8     4     4     3     1     0     2     0     0     0     0   \n",
      "\n",
      "   nfcB  nfcC  \n",
      "0     0     0  \n",
      "1     0     0  \n",
      "2     0     0  \n",
      "3     0     0  \n",
      "4     0     0  \n"
     ]
    }
   ],
   "source": [
    "import pandas as pd\n",
    "import gradio as gr\n",
    "\n",
    "def get_BFCs(results_df):\n",
    "    df = results_df[['hash', 'bfc']]\n",
    "    return df\n",
    "\n",
    "def get_BPCs(results_df):\n",
    "    df = results_df[['hash', 'bpc']]\n",
    "    return df\n",
    "\n",
    "def get_PRCs(results_df):\n",
    "    df = results_df[['hash', 'prc']]\n",
    "    return df\n",
    "\n",
    "def get_NFCs(results_df):\n",
    "    df = results_df[['hash', 'nfc']]\n",
    "    return df\n",
    "\n",
    "results_A = pd.read_csv('annotations_Michel.csv')\n",
    "results_B = pd.read_csv('annotations_Abhishek.csv')\n",
    "results_C = pd.read_csv('annotations_David.csv')\n",
    "\n",
    "# Get columns\n",
    "BFCs_A = get_BFCs(results_A)\n",
    "BFCs_B = get_BFCs(results_B)\n",
    "BFCs_C = get_BFCs(results_C)\n",
    "\n",
    "BPCs_A = get_BPCs(results_A)\n",
    "BPCs_B = get_BPCs(results_B)\n",
    "BPCs_C = get_BPCs(results_C)\n",
    "\n",
    "PRCs_A = get_PRCs(results_A)\n",
    "PRCs_B = get_PRCs(results_B)\n",
    "PRCs_C = get_PRCs(results_C)\n",
    "\n",
    "NFCs_A = get_NFCs(results_A)\n",
    "NFCs_B = get_NFCs(results_B)\n",
    "NFCs_C = get_NFCs(results_C)\n",
    "\n",
    "# Combine metrics\n",
    "# BFCs\n",
    "BFCs = pd.merge(BFCs_A, BFCs_B, on='hash', how='inner', suffixes=('A', 'B'))\n",
    "BFCs = pd.merge(BFCs, BFCs_C, on='hash', how='inner', suffixes=('', 'C'))\n",
    "BFCs = BFCs.rename(columns={'bfc': 'bfcC'})\n",
    "\n",
    "# BPCs\n",
    "BPCs = pd.merge(BPCs_A, BPCs_B, on='hash', how='inner', suffixes=('A', 'B'))\n",
    "BPCs = pd.merge(BPCs, BPCs_C, on='hash', how='inner', suffixes=('', 'C'))\n",
    "BPCs = BPCs.rename(columns={'bpc': 'bpcC'})\n",
    "\n",
    "# PRCs\n",
    "PRCs = pd.merge(PRCs_A, PRCs_B, on='hash', how='inner', suffixes=('A', 'B'))\n",
    "PRCs = pd.merge(PRCs, PRCs_C, on='hash', how='inner', suffixes=('', 'C'))\n",
    "PRCs = PRCs.rename(columns={'prc': 'prcC'})\n",
    "\n",
    "# NFCs\n",
    "NFCs = pd.merge(NFCs_A, NFCs_B, on='hash', how='inner', suffixes=('A', 'B'))\n",
    "NFCs = pd.merge(NFCs, NFCs_C, on='hash', how='inner', suffixes=('', 'C'))\n",
    "NFCs = NFCs.rename(columns={'nfc': 'nfcC'})\n",
    "\n",
    "# Join everything in one dataframe\n",
    "final_df = pd.merge(BFCs, BPCs, on='hash', how='inner')\n",
    "final_df = pd.merge(final_df, PRCs, on='hash', how='inner')\n",
    "final_df = pd.merge(final_df, NFCs, on='hash', how='inner')\n",
    "\n",
    "\n",
    "print(final_df.head())\n"
   ]
  },
  {
   "cell_type": "code",
   "execution_count": 3,
   "id": "ebe2ba6a-fbea-4195-ae54-95065e5ad7ce",
   "metadata": {},
   "outputs": [
    {
     "name": "stdout",
     "output_type": "stream",
     "text": [
      "Total commits with disagreement in BFC: 93\n",
      "Total commits with disagreement in BPC: 248\n",
      "Total commits with disagreement in PRC: 163\n",
      "Total commits with disagreement in NFC: 71\n"
     ]
    }
   ],
   "source": [
    "# Disagreement BFCs\n",
    "BFCs_disagree_1 = BFCs.query(\"(abs(bfcA - bfcB) > 1) or (abs(bfcA - bfcC) > 1) or (abs(bfcB - bfcC) > 1)\")\n",
    "total_BFCs_disagree_1 = len(BFCs_disagree_1)\n",
    "print(f\"Total commits with disagreement in BFC: {total_BFCs_disagree_1}\")\n",
    "\n",
    "# Disagreement BPCs\n",
    "BPCs_disagree_1 = BPCs.query(\"(abs(bpcA - bpcB) > 1) or (abs(bpcA - bpcC) > 1) or (abs(bpcB - bpcC) > 1)\")\n",
    "total_BPCs_disagree_1 = len(BPCs_disagree_1)\n",
    "print(f\"Total commits with disagreement in BPC: {total_BPCs_disagree_1}\")\n",
    "\n",
    "# Disagreement PRCs\n",
    "PRCs_disagree_1 = PRCs.query(\"(abs(prcA - prcB) > 1) or (abs(prcA - prcC) > 1) or (abs(prcB - prcC) > 1)\")\n",
    "total_PRCs_disagree_1 = len(PRCs_disagree_1)\n",
    "print(f\"Total commits with disagreement in PRC: {total_PRCs_disagree_1}\")\n",
    "\n",
    "# Disagreement NFCs\n",
    "NFCs_disagree_1 = NFCs.query(\"(abs(nfcA - nfcB) > 1) or (abs(nfcA - nfcC) > 1) or (abs(nfcB - nfcC) > 1)\")\n",
    "total_NFCs_disagree_1 = len(NFCs_disagree_1)\n",
    "print(f\"Total commits with disagreement in NFC: {total_NFCs_disagree_1}\")\n"
   ]
  },
  {
   "cell_type": "code",
   "execution_count": 5,
   "id": "9262ba9a-ad34-4780-980f-e502cebd86b2",
   "metadata": {},
   "outputs": [
    {
     "name": "stdout",
     "output_type": "stream",
     "text": [
      "Total unique hashes: 368\n"
     ]
    }
   ],
   "source": [
    "# Get hashes of all disagreements\n",
    "hashes_BFC = set(BFCs_disagree_1['hash'])\n",
    "hashes_BPC = set(BPCs_disagree_1['hash'])\n",
    "hashes_PRC = set(PRCs_disagree_1['hash'])\n",
    "hashes_NFC = set(NFCs_disagree_1['hash'])\n",
    "\n",
    "# Join all the hashes in one list\n",
    "all_hashes = hashes_BFC.union(hashes_BPC).union(hashes_PRC).union(hashes_NFC)\n",
    "unique_hashes_list = list(all_hashes)\n",
    "\n",
    "print(f\"Total unique hashes: {len(unique_hashes_list)}\")\n",
    "\n",
    "# To DF\n",
    "unique_hashes_df = pd.DataFrame(unique_hashes_list, columns=['hash'])\n",
    "\n",
    "# Save disagreements into CSV\n",
    "unique_hashes_df.to_csv('unique_hashes.csv', index=False)\n",
    "\n",
    "\n",
    "# Only for BFC\n",
    "unique_hashes_bfc_df = pd.DataFrame(hashes_BFC, columns=['hash'])\n",
    "\n",
    "# Save disagreements into CSV\n",
    "unique_hashes_bfc_df.to_csv('unique_hashes_bfc.csv', index=False)\n",
    "\n",
    "# Only for BPC\n",
    "unique_hashes_bpc_df = pd.DataFrame(hashes_BPC, columns=['hash'])\n",
    "\n",
    "# Save disagreements into CSV\n",
    "unique_hashes_bpc_df.to_csv('unique_hashes_bpc.csv', index=False)\n"
   ]
  },
  {
   "cell_type": "code",
   "execution_count": null,
   "id": "c8a329c3-45d6-4a57-8074-c9bfb4a983e9",
   "metadata": {},
   "outputs": [],
   "source": []
  }
 ],
 "metadata": {
  "kernelspec": {
   "display_name": "Python 3 (ipykernel)",
   "language": "python",
   "name": "python3"
  },
  "language_info": {
   "codemirror_mode": {
    "name": "ipython",
    "version": 3
   },
   "file_extension": ".py",
   "mimetype": "text/x-python",
   "name": "python",
   "nbconvert_exporter": "python",
   "pygments_lexer": "ipython3",
   "version": "3.10.12"
  }
 },
 "nbformat": 4,
 "nbformat_minor": 5
}

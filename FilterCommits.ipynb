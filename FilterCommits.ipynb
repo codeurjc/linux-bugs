{
 "cells": [
  {
   "cell_type": "code",
   "execution_count": 1,
   "id": "786ae605-f1d9-4da1-85a2-a5822c37f49d",
   "metadata": {},
   "outputs": [],
   "source": [
    "import json"
   ]
  },
  {
   "cell_type": "code",
   "execution_count": 4,
   "id": "4edd01b5-6c8f-4a8d-b755-72c1a799aed8",
   "metadata": {},
   "outputs": [],
   "source": [
    "with open('linux-commits-2023-11-12.json') as f:\n",
    "    all_commits = f.readlines()"
   ]
  },
  {
   "cell_type": "code",
   "execution_count": 24,
   "id": "96e07c37-b82d-472d-ac8c-4de2af1022a2",
   "metadata": {},
   "outputs": [],
   "source": [
    "with open('commits-2022-0-1000.lst') as f:\n",
    "    random_commits = list(map(lambda c: c.strip(), f.readlines()))"
   ]
  },
  {
   "cell_type": "code",
   "execution_count": 29,
   "id": "69842660-2a16-4043-bb2d-8370fcb0d886",
   "metadata": {},
   "outputs": [],
   "source": [
    "filtered_commits = []\n",
    "for commit in all_commits:\n",
    "    commit_json = json.loads(commit)\n",
    "    if commit_json['data']['commit'] in random_commits:\n",
    "        filtered_commits.append(commit_json)"
   ]
  },
  {
   "cell_type": "code",
   "execution_count": 30,
   "id": "405610ba-63c8-47fa-8086-7993528398e4",
   "metadata": {},
   "outputs": [
    {
     "data": {
      "text/plain": [
       "1000"
      ]
     },
     "execution_count": 30,
     "metadata": {},
     "output_type": "execute_result"
    }
   ],
   "source": [
    "len(filtered_commits)"
   ]
  },
  {
   "cell_type": "code",
   "execution_count": 32,
   "id": "176603e0-fd47-4f84-bef8-b1122c10bbee",
   "metadata": {},
   "outputs": [
    {
     "data": {
      "text/plain": [
       "{'backend_name': 'Git',\n",
       " 'backend_version': '0.13.0',\n",
       " 'category': 'commit',\n",
       " 'classified_fields_filtered': None,\n",
       " 'data': {'Author': 'Linus Torvalds <torvalds@linux-foundation.org>',\n",
       "  'AuthorDate': 'Thu Jan 6 18:35:17 2022 -0800',\n",
       "  'Commit': 'Linus Torvalds <torvalds@linux-foundation.org>',\n",
       "  'CommitDate': 'Thu Jan 6 18:35:17 2022 -0800',\n",
       "  'Merge': 'b2b436ec0205 b35a0f4dd544',\n",
       "  'commit': 'ddec8ed2d4905d0967ce2ec432e440e582aa52c6',\n",
       "  'files': [{'added': '1',\n",
       "    'file': 'drivers/infiniband/core/uverbs_marshall.c',\n",
       "    'removed': '1'},\n",
       "   {'added': '3',\n",
       "    'file': 'drivers/infiniband/core/uverbs_uapi.c',\n",
       "    'removed': '0'},\n",
       "   {'added': '3',\n",
       "    'file': 'drivers/infiniband/hw/mlx5/mlx5_ib.h',\n",
       "    'removed': '3'},\n",
       "   {'added': '14', 'file': 'drivers/infiniband/hw/mlx5/mr.c', 'removed': '12'},\n",
       "   {'added': '7',\n",
       "    'file': 'drivers/infiniband/sw/rxe/rxe_mr.c',\n",
       "    'removed': '9'}],\n",
       "  'message': 'Merge tag \\'for-linus\\' of git://git.kernel.org/pub/scm/linux/kernel/git/rdma/rdma\\n\\nPull rdma fixes from Jason Gunthorpe:\\n \"Last pull for 5.16, the reversion has been known for a while now but\\n  didn\\'t get a proper fix in time. Looks like we will have several\\n  info-leak bugs to take care of going foward.\\n\\n   - Revert the patch fixing the DM related crash causing a widespread\\n     regression for kernel ULPs. A proper fix just didn\\'t appear this\\n     cycle due to the holidays\\n\\n   - Missing NULL check on alloc in uverbs\\n\\n   - Double free in rxe error paths\\n\\n   - Fix a new kernel-infoleak report when forming ah_attr\\'s without\\n     GRH\\'s in ucma\"\\n\\n* tag \\'for-linus\\' of git://git.kernel.org/pub/scm/linux/kernel/git/rdma/rdma:\\n  RDMA/core: Don\\'t infoleak GRH fields\\n  RDMA/uverbs: Check for null return of kmalloc_array\\n  Revert \"RDMA/mlx5: Fix releasing unallocated memory in dereg MR flow\"\\n  RDMA/rxe: Prevent double freeing rxe_map_set()',\n",
       "  'parents': ['b2b436ec0205abde78ef8fd438758125ffbb0fec',\n",
       "   'b35a0f4dd544eaa6162b6d2f13a2557a121ae5fd'],\n",
       "  'refs': []},\n",
       " 'origin': 'linux',\n",
       " 'perceval_version': '0.23.1',\n",
       " 'search_fields': {'item_id': 'ddec8ed2d4905d0967ce2ec432e440e582aa52c6'},\n",
       " 'tag': 'linux',\n",
       " 'timestamp': 1699829870.956275,\n",
       " 'updated_on': 1641522917.0,\n",
       " 'uuid': '93afe73637ebc587cb572dcab1553a1028a67089'}"
      ]
     },
     "execution_count": 32,
     "metadata": {},
     "output_type": "execute_result"
    }
   ],
   "source": [
    "filtered_commits[0]"
   ]
  },
  {
   "cell_type": "code",
   "execution_count": 31,
   "id": "99e1982e-1952-4da2-a491-1908f1f15156",
   "metadata": {},
   "outputs": [],
   "source": [
    "with open('linux-commits-2023-11-12_random-filtered.json', 'w') as f:\n",
    "  json.dump(filtered_commits, f)"
   ]
  }
 ],
 "metadata": {
  "kernelspec": {
   "display_name": "Python 3 (ipykernel)",
   "language": "python",
   "name": "python3"
  },
  "language_info": {
   "codemirror_mode": {
    "name": "ipython",
    "version": 3
   },
   "file_extension": ".py",
   "mimetype": "text/x-python",
   "name": "python",
   "nbconvert_exporter": "python",
   "pygments_lexer": "ipython3",
   "version": "3.11.5"
  }
 },
 "nbformat": 4,
 "nbformat_minor": 5
}
